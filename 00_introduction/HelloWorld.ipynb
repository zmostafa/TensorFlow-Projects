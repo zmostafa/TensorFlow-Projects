{
 "nbformat": 4,
 "nbformat_minor": 2,
 "metadata": {
  "language_info": {
   "name": "python",
   "codemirror_mode": {
    "name": "ipython",
    "version": 3
   },
   "version": "3.7.5-final"
  },
  "orig_nbformat": 2,
  "file_extension": ".py",
  "mimetype": "text/x-python",
  "name": "python",
  "npconvert_exporter": "python",
  "pygments_lexer": "ipython3",
  "version": 3,
  "kernelspec": {
   "name": "python3",
   "display_name": "Python 3"
  }
 },
 "cells": [
  {
   "cell_type": "markdown",
   "metadata": {},
   "source": [
    "### Hello World of TensorFlow\n",
    "\n",
    "**Note: These notebooks are using tensorflow 2.1**\n"
   ],
   "execution_count": null,
   "outputs": []
  },
  {
   "cell_type": "code",
   "execution_count": 11,
   "metadata": {},
   "outputs": [
    {
     "output_type": "stream",
     "name": "stderr",
     "text": "UsageError: Line magic function `%tensorflow_version` not found.\n"
    }
   ],
   "source": [
    "'''\n",
    "For notebooks,to install a specific version of Tensorflow\n",
    "ues !pip2 install tensorflow==x.x --user\n",
    "or \n",
    "%tensorflow_version x.x for execution in Google Colab\n",
    "\n",
    "'''\n",
    "\n",
    "import tensorflow as tf \n",
    "# Check this issue : https://github.com/OlafenwaMoses/ImageAI/issues/400\n",
    "tf.compat.v1.disable_eager_execution()\n",
    "\n",
    "print(\"COMPILER_VERSION = %s\\n\\\n",
    "GIT_VERSION = %s\\n\\\n",
    "GRAPH_DEF_VERSION = %s\\n\\\n",
    "GRAPH_DEF_VERSION_MIN_CONSUMER = %s\\n\\\n",
    "GRAPH_DEF_VERSION_MIN_PRODUCER = %s\\n\\\n",
    "VERSION = %s \" % (tf.version.COMPILER_VERSION, tf.version.GIT_VERSION , tf.version.GRAPH_DEF_VERSION , tf.version.GRAPH_DEF_VERSION_MIN_CONSUMER , tf.version.GRAPH_DEF_VERSION_MIN_PRODUCER , tf.version.VERSION) )\n",
    "\n",
    "# Simple 'Hello World' using tensorflow\n",
    "\n",
    "hello = tf.constant('Hello World of TensorFlow')\n",
    "\n",
    "with tf.compat.v1.Session() as sess:\n",
    "    print(sess.run(hello))\n"
   ]
  },
  {
   "cell_type": "code",
   "execution_count": null,
   "metadata": {},
   "outputs": [],
   "source": []
  }
 ]
}