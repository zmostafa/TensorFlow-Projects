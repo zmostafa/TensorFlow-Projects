{
 "nbformat": 4,
 "nbformat_minor": 2,
 "metadata": {
  "language_info": {
   "name": "python",
   "codemirror_mode": {
    "name": "ipython",
    "version": 3
   },
   "version": "3.7.5-final"
  },
  "orig_nbformat": 2,
  "file_extension": ".py",
  "mimetype": "text/x-python",
  "name": "python",
  "npconvert_exporter": "python",
  "pygments_lexer": "ipython3",
  "version": 3,
  "kernelspec": {
   "name": "python3",
   "display_name": "Python 3"
  }
 },
 "cells": [
  {
   "cell_type": "markdown",
   "metadata": {},
   "source": [
    "Introduction to TensorFlow , and basic operations"
   ]
  },
  {
   "cell_type": "code",
   "execution_count": 24,
   "metadata": {},
   "outputs": [
    {
     "output_type": "stream",
     "name": "stdout",
     "text": "COMPILER_VERSION = 7.3.1 20180303\nGIT_VERSION = v1.15.0-92-g5d80e1e\nGRAPH_DEF_VERSION = 134\nGRAPH_DEF_VERSION_MIN_CONSUMER = 0\nGRAPH_DEF_VERSION_MIN_PRODUCER = 0\nVERSION = 1.15.2 \n"
    }
   ],
   "source": [
    "'''\n",
    "For notebooks,to install a specific version of Tensorflow\n",
    "ues !pip2 install tensorflow==x.x --user\n",
    "or \n",
    "%tensorflow_version x.x\n",
    "'''\n",
    "import tensorflow as tf \n",
    "\n",
    "print(\"COMPILER_VERSION = %s\\n\\\n",
    "GIT_VERSION = %s\\n\\\n",
    "GRAPH_DEF_VERSION = %s\\n\\\n",
    "GRAPH_DEF_VERSION_MIN_CONSUMER = %s\\n\\\n",
    "GRAPH_DEF_VERSION_MIN_PRODUCER = %s\\n\\\n",
    "VERSION = %s \" % (tf.COMPILER_VERSION, tf.GIT_VERSION , tf.GRAPH_DEF_VERSION , tf.GRAPH_DEF_VERSION_MIN_CONSUMER , tf.GRAPH_DEF_VERSION_MIN_PRODUCER , tf.VERSION) )"
   ]
  },
  {
   "cell_type": "code",
   "execution_count": null,
   "metadata": {},
   "outputs": [],
   "source": []
  }
 ]
}