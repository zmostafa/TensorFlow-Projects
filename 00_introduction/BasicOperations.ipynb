{
 "nbformat": 4,
 "nbformat_minor": 2,
 "metadata": {
  "language_info": {
   "name": "python",
   "codemirror_mode": {
    "name": "ipython",
    "version": 3
   },
   "version": "3.7.5-final"
  },
  "orig_nbformat": 2,
  "file_extension": ".py",
  "mimetype": "text/x-python",
  "name": "python",
  "npconvert_exporter": "python",
  "pygments_lexer": "ipython3",
  "version": 3,
  "kernelspec": {
   "name": "python3",
   "display_name": "Python 3"
  }
 },
 "cells": [
  {
   "cell_type": "markdown",
   "metadata": {},
   "source": [
    "### Tensorflow Basic Math Operations"
   ]
  },
  {
   "cell_type": "code",
   "execution_count": 14,
   "metadata": {},
   "outputs": [
    {
     "output_type": "stream",
     "name": "stdout",
     "text": "Addion of two numbers in Tesnorflow:  9\nMultiplication of two numbers in Tensorflow:  18\nDivition of two numbers in Tensorflow:  2.0\nAddition with variables:  8.0\nSubtracting with Varibales:  4.0\nMultiplication with Varibales:  12.0\ndivion with Varibales:  3.0\n"
    }
   ],
   "source": [
    "import tensorflow as tf \n",
    "# Check this issue : https://github.com/OlafenwaMoses/ImageAI/issues/400\n",
    "tf.compat.v1.disable_eager_execution()\n",
    "\n",
    "a = tf.constant(6)\n",
    "b = tf.constant(3)\n",
    "\n",
    "sess = tf.compat.v1.Session()\n",
    "\n",
    "# print('a', sess.run(a))\n",
    "# print('b', sess.run(b))\n",
    "print(\"Addion of two numbers in Tesnorflow: \", sess.run(a+b))\n",
    "print(\"Multiplication of two numbers in Tensorflow: \", sess.run(a*b))\n",
    "print(\"Divition of two numbers in Tensorflow: \", sess.run(a/b))\n",
    "\n",
    "# Define and pass parameters to session during runtime\n",
    "\n",
    "x = tf.compat.v1.placeholder(tf.float32)\n",
    "y = tf.compat.v1.placeholder(tf.float32)\n",
    "\n",
    "with tf.compat.v1.Session() as sess:\n",
    "    print(\"Addition with variables: \", sess.run(tf.add(x,y), feed_dict = {x: 6.0, y:2.0}))\n",
    "    print(\"Subtracting with Varibales: \", sess.run(tf.subtract(x,y),  feed_dict = {x: 6.0, y: 2.0}))\n",
    "    print(\"Multiplication with Varibales: \", sess.run(tf.multiply(x,y),  feed_dict = {x: 6.0, y: 2.0}))\n",
    "    print(\"divion with Varibales: \", sess.run(tf.divide(x,y),  feed_dict = {x: 6.0, y: 2.0}))\n",
    "\n"
   ]
  },
  {
   "cell_type": "code",
   "execution_count": null,
   "metadata": {},
   "outputs": [],
   "source": []
  }
 ]
}