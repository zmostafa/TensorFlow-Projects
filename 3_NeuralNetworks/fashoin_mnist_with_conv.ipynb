{
  "nbformat": 4,
  "nbformat_minor": 0,
  "metadata": {
    "colab": {
      "name": "Copy of Exercise 3 - Question.ipynb",
      "provenance": [],
      "collapsed_sections": [],
      "toc_visible": true,
      "include_colab_link": true
    },
    "kernelspec": {
      "display_name": "Python 3",
      "name": "python3"
    },
    "accelerator": "GPU"
  },
  "cells": [
    {
      "cell_type": "markdown",
      "metadata": {
        "id": "view-in-github",
        "colab_type": "text"
      },
      "source": [
        "<a href=\"https://colab.research.google.com/github/zmostafa/TensorFlow-Projects/blob/master/3_NeuralNetworks/fashoin_mnist_with_conv.ipynb\" target=\"_parent\"><img src=\"https://colab.research.google.com/assets/colab-badge.svg\" alt=\"Open In Colab\"/></a>"
      ]
    },
    {
      "cell_type": "code",
      "metadata": {
        "colab_type": "code",
        "id": "sfQRyaJWAIdg",
        "outputId": "0deeb2be-c0fd-445d-e272-7be1829a54a2",
        "colab": {
          "base_uri": "https://localhost:8080/",
          "height": 323
        }
      },
      "source": [
        "import tensorflow as tf\n",
        "\n",
        "# YOUR CODE STARTS HERE\n",
        "# config = tf.ConfigProto()\n",
        "# config.gpu_options.allow_growth = True\n",
        "# sess = tf.Session(config=config)\n",
        "\n",
        "class my_accuracy(tf.keras.callbacks.Callback):\n",
        "  def on_epoch_end(self, epoch,logs={}):\n",
        "    if(logs.get('accuracy') > 0.998):\n",
        "      print(\"\\nStopping training as Accuracy is > 99.8%\")\n",
        "      self.model.stop_training = True\n",
        "\n",
        "\n",
        "# YOUR CODE ENDS HERE\n",
        "\n",
        "mnist = tf.keras.datasets.mnist\n",
        "(training_images, training_labels), (test_images, test_labels) = mnist.load_data()\n",
        "training_images , test_images = training_images / 255.0, test_images / 255.0\n",
        "training_images = training_images.reshape(60000, 28, 28 , 1)\n",
        "test_images = test_images.reshape(10000, 28, 28 ,1)\n",
        "my_Callback = my_accuracy()\n",
        "\n",
        "model = tf.keras.models.Sequential([\n",
        "            # YOUR CODE STARTS HERE\n",
        "            tf.keras.layers.Conv2D(64,(3,3),activation='relu',input_shape=(28,28,1)),\n",
        "            tf.keras.layers.MaxPool2D(pool_size=(2, 2)),\n",
        "            tf.keras.layers.Flatten(),\n",
        "            tf.keras.layers.Dense(128,activation='relu'),\n",
        "            tf.keras.layers.Dense(10,activation='softmax')\n",
        "            # YOUR CODE ENDS HERE\n",
        "    ])\n",
        "\n",
        "model.compile(optimizer='adam', loss='sparse_categorical_crossentropy', metrics=['accuracy'])\n",
        "    # model fitting\n",
        "history = model.fit(\n",
        "        # YOUR CODE STARTS HERE\n",
        "        training_images, training_labels, epochs=20,callbacks=[my_Callback],validation_split=0.2\n",
        "        # YOUR CODE ENDS HERE\n",
        "    )\n"
      ],
      "execution_count": 0,
      "outputs": [
        {
          "output_type": "stream",
          "text": [
            "Epoch 1/20\n",
            "1500/1500 [==============================] - 4s 3ms/step - loss: 0.1501 - accuracy: 0.9542 - val_loss: 0.0660 - val_accuracy: 0.9809\n",
            "Epoch 2/20\n",
            "1500/1500 [==============================] - 4s 3ms/step - loss: 0.0510 - accuracy: 0.9846 - val_loss: 0.0571 - val_accuracy: 0.9828\n",
            "Epoch 3/20\n",
            "1500/1500 [==============================] - 4s 3ms/step - loss: 0.0318 - accuracy: 0.9901 - val_loss: 0.0515 - val_accuracy: 0.9850\n",
            "Epoch 4/20\n",
            "1500/1500 [==============================] - 4s 3ms/step - loss: 0.0204 - accuracy: 0.9934 - val_loss: 0.0560 - val_accuracy: 0.9851\n",
            "Epoch 5/20\n",
            "1500/1500 [==============================] - 4s 3ms/step - loss: 0.0134 - accuracy: 0.9955 - val_loss: 0.0650 - val_accuracy: 0.9833\n",
            "Epoch 6/20\n",
            "1500/1500 [==============================] - 4s 3ms/step - loss: 0.0105 - accuracy: 0.9966 - val_loss: 0.0635 - val_accuracy: 0.9849\n",
            "Epoch 7/20\n",
            "1500/1500 [==============================] - 4s 2ms/step - loss: 0.0074 - accuracy: 0.9978 - val_loss: 0.0552 - val_accuracy: 0.9875\n",
            "Epoch 8/20\n",
            "1477/1500 [============================>.] - ETA: 0s - loss: 0.0055 - accuracy: 0.9985\n",
            "Stopping training as Accuracy is > 99.8%\n",
            "1500/1500 [==============================] - 4s 2ms/step - loss: 0.0056 - accuracy: 0.9984 - val_loss: 0.0575 - val_accuracy: 0.9862\n"
          ],
          "name": "stdout"
        }
      ]
    }
  ]
}